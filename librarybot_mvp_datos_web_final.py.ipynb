{
  "nbformat": 4,
  "nbformat_minor": 0,
  "metadata": {
    "colab": {
      "provenance": []
    },
    "kernelspec": {
      "name": "python3",
      "display_name": "Python 3"
    },
    "language_info": {
      "name": "python"
    }
  },
  "cells": [
    {
      "cell_type": "markdown",
      "source": [
        "# *** LibraryBot - Sistema de Biblioteca Digital (Modo Interactivo) ***\n",
        "## Chatbot bibliotecario que usa OpenLibrary como catálogo"
      ],
      "metadata": {
        "id": "a_INr_lxce9n"
      }
    },
    {
      "cell_type": "code",
      "execution_count": 14,
      "metadata": {
        "colab": {
          "base_uri": "https://localhost:8080/"
        },
        "id": "ovsXFS7mb7Iv",
        "outputId": "0a672493-bf3a-45cf-ad69-90ea66166df6"
      },
      "outputs": [
        {
          "output_type": "stream",
          "name": "stdout",
          "text": [
            "Requirement already satisfied: openai in /usr/local/lib/python3.11/dist-packages (1.93.3)\n",
            "Requirement already satisfied: anyio<5,>=3.5.0 in /usr/local/lib/python3.11/dist-packages (from openai) (4.9.0)\n",
            "Requirement already satisfied: distro<2,>=1.7.0 in /usr/local/lib/python3.11/dist-packages (from openai) (1.9.0)\n",
            "Requirement already satisfied: httpx<1,>=0.23.0 in /usr/local/lib/python3.11/dist-packages (from openai) (0.28.1)\n",
            "Requirement already satisfied: jiter<1,>=0.4.0 in /usr/local/lib/python3.11/dist-packages (from openai) (0.10.0)\n",
            "Requirement already satisfied: pydantic<3,>=1.9.0 in /usr/local/lib/python3.11/dist-packages (from openai) (2.11.7)\n",
            "Requirement already satisfied: sniffio in /usr/local/lib/python3.11/dist-packages (from openai) (1.3.1)\n",
            "Requirement already satisfied: tqdm>4 in /usr/local/lib/python3.11/dist-packages (from openai) (4.67.1)\n",
            "Requirement already satisfied: typing-extensions<5,>=4.11 in /usr/local/lib/python3.11/dist-packages (from openai) (4.14.1)\n",
            "Requirement already satisfied: idna>=2.8 in /usr/local/lib/python3.11/dist-packages (from anyio<5,>=3.5.0->openai) (3.10)\n",
            "Requirement already satisfied: certifi in /usr/local/lib/python3.11/dist-packages (from httpx<1,>=0.23.0->openai) (2025.7.9)\n",
            "Requirement already satisfied: httpcore==1.* in /usr/local/lib/python3.11/dist-packages (from httpx<1,>=0.23.0->openai) (1.0.9)\n",
            "Requirement already satisfied: h11>=0.16 in /usr/local/lib/python3.11/dist-packages (from httpcore==1.*->httpx<1,>=0.23.0->openai) (0.16.0)\n",
            "Requirement already satisfied: annotated-types>=0.6.0 in /usr/local/lib/python3.11/dist-packages (from pydantic<3,>=1.9.0->openai) (0.7.0)\n",
            "Requirement already satisfied: pydantic-core==2.33.2 in /usr/local/lib/python3.11/dist-packages (from pydantic<3,>=1.9.0->openai) (2.33.2)\n",
            "Requirement already satisfied: typing-inspection>=0.4.0 in /usr/local/lib/python3.11/dist-packages (from pydantic<3,>=1.9.0->openai) (0.4.1)\n"
          ]
        }
      ],
      "source": [
        "!pip install openai  #Instalación de librería open Ai"
      ]
    },
    {
      "cell_type": "code",
      "source": [
        "from openai import OpenAI\n",
        "import getpass\n",
        "import requests\n",
        "import random\n"
      ],
      "metadata": {
        "id": "6MTCsSpRcL1d"
      },
      "execution_count": 15,
      "outputs": []
    },
    {
      "cell_type": "markdown",
      "source": [
        "### Configuración open Ai"
      ],
      "metadata": {
        "id": "rbwJU9efc3Am"
      }
    },
    {
      "cell_type": "code",
      "source": [
        "print(\"🔧 Configurando LibraryBot...\")\n",
        "api_key = getpass.getpass(\"Ingresa tu clave API de OpenAI: \")\n",
        "client = OpenAI(api_key = api_key)\n",
        "\n",
        "def get_completion_from_messages(messages, model=\"gpt-4.1-mini\", temperature=0):\n",
        "    response = client.chat.completions.create(\n",
        "        model=model,\n",
        "        messages=messages,\n",
        "        temperature=temperature,\n",
        "    )\n",
        "    return response.choices[0].message.content"
      ],
      "metadata": {
        "colab": {
          "base_uri": "https://localhost:8080/"
        },
        "id": "6AUcsktwcPme",
        "outputId": "f400f7f6-9e2d-4ae2-88db-5145e790b6fa"
      },
      "execution_count": 16,
      "outputs": [
        {
          "name": "stdout",
          "output_type": "stream",
          "text": [
            "🔧 Configurando LibraryBot...\n",
            "Ingresa tu clave API de OpenAI: ··········\n"
          ]
        }
      ]
    },
    {
      "cell_type": "markdown",
      "source": [
        "### Integración con OpenLibrary"
      ],
      "metadata": {
        "id": "eSnCA85gc-9i"
      }
    },
    {
      "cell_type": "code",
      "source": [
        "def buscar_en_catalogo_biblioteca(consulta, limite=10):\n",
        "    try:\n",
        "        print(f\"📚 Consultando catálogo: {consulta}\")\n",
        "        url = \"https://openlibrary.org/search.json\"\n",
        "        params = {\n",
        "            'q': consulta,\n",
        "            'limit': limite,\n",
        "            'fields': 'key,title,author_name,first_publish_year,subject,language'\n",
        "        }\n",
        "        response = requests.get(url, params=params, timeout=10)\n",
        "        response.raise_for_status()\n",
        "        datos = response.json()\n",
        "\n",
        "        libros_biblioteca = []\n",
        "        for libro in datos.get('docs', []):\n",
        "            libro_biblioteca = procesar_libro_para_biblioteca(libro)\n",
        "            libros_biblioteca.append(libro_biblioteca)\n",
        "\n",
        "        return {\"libros\": libros_biblioteca, \"total\": len(libros_biblioteca)}\n",
        "    except Exception as e:\n",
        "        print(f\"❌ Error: {e}\")\n",
        "        return {\"libros\": [], \"total\": 0}\n",
        "\n"
      ],
      "metadata": {
        "id": "jy4UTxPJc08r"
      },
      "execution_count": 17,
      "outputs": []
    },
    {
      "cell_type": "code",
      "source": [
        "def procesar_libro_para_biblioteca(datos_libro):\n",
        "    titulo = datos_libro.get('title', 'Título desconocido')\n",
        "    autores = datos_libro.get('author_name', ['Autor desconocido'])\n",
        "    año = datos_libro.get('first_publish_year', 'Año desconocido')\n",
        "    temas = datos_libro.get('subject', [])\n",
        "\n",
        "    # Simular disponibilidad\n",
        "    total_copias = random.randint(1, 8)\n",
        "    copias_prestadas = random.randint(0, total_copias)\n",
        "    copias_disponibles = total_copias - copias_prestadas\n",
        "\n",
        "    # Período de préstamo según categoría\n",
        "    periodo_prestamo = determinar_periodo_prestamo(temas)\n",
        "\n",
        "    # Fecha disponible si prestado\n",
        "    fecha_disponible = None\n",
        "    if copias_disponibles == 0:\n",
        "        dias = random.randint(3, 21)\n",
        "        fecha_disponible = f\"{dias} días\"\n",
        "\n",
        "    idiomas = datos_libro.get('language', [])\n",
        "    tiene_español = any('spa' in str(idioma).lower() or 'spanish' in str(idioma).lower() for idioma in idiomas)\n",
        "\n",
        "    return {\n",
        "        'titulo': titulo,\n",
        "        'autores': ', '.join(autores) if isinstance(autores, list) else str(autores),\n",
        "        'año': año,\n",
        "        'temas': temas[:3] if temas else [],\n",
        "        'total_copias': total_copias,\n",
        "        'copias_disponibles': copias_disponibles,\n",
        "        'periodo_prestamo': periodo_prestamo,\n",
        "        'fecha_disponible': fecha_disponible,\n",
        "        'tiene_español': tiene_español\n",
        "    }"
      ],
      "metadata": {
        "id": "XTyyGZH2f8aw"
      },
      "execution_count": 18,
      "outputs": []
    },
    {
      "cell_type": "markdown",
      "source": [
        "   ### Verificar español"
      ],
      "metadata": {
        "id": "tmj9iZ-MgNY1"
      }
    },
    {
      "cell_type": "code",
      "source": [
        "def determinar_periodo_prestamo(temas):\n",
        "    temas_str = ' '.join(temas).lower() if temas else ''\n",
        "\n",
        "    if any(palabra in temas_str for palabra in ['programming', 'computer', 'science', 'mathematics', 'engineering']):\n",
        "        return '21 días'\n",
        "    elif any(palabra in temas_str for palabra in ['reference', 'dictionary', 'encyclopedia']):\n",
        "        return '7 días'\n",
        "    else:\n",
        "        return '14 días'\n",
        "\n",
        "def formatear_libro_biblioteca(libro):\n",
        "    info = f'📖 \"{libro[\"titulo\"]}\" por {libro[\"autores\"]} ({libro[\"año\"]})'\n",
        "\n",
        "    if libro['copias_disponibles'] > 0:\n",
        "        info += f' - ✅ {libro[\"copias_disponibles\"]}/{libro[\"total_copias\"]} disponibles'\n",
        "        info += f' - Préstamo: {libro[\"periodo_prestamo\"]}'\n",
        "    else:\n",
        "        info += f' - ❌ No disponible ({libro[\"total_copias\"]} prestadas)'\n",
        "        if libro['fecha_disponible']:\n",
        "            info += f' - Disponible en: {libro[\"fecha_disponible\"]}'\n",
        "\n",
        "    if libro['tiene_español']:\n",
        "        info += ' - 🇪🇸 En español'\n",
        "\n",
        "    if libro['temas']:\n",
        "        info += f' - Temas: {\", \".join(libro[\"temas\"])}'\n",
        "\n",
        "    return info\n",
        "\n",
        "def procesar_busqueda_biblioteca(consulta, limite=5):\n",
        "    resultados = buscar_en_catalogo_biblioteca(consulta, limite)\n",
        "\n",
        "    if resultados['total'] == 0:\n",
        "        return \"No encontré libros. ¿Podrías intentar otros términos?\"\n",
        "\n",
        "    texto = f\"Encontré {resultados['total']} libros en nuestro catálogo:\\n\\n\"\n",
        "    for i, libro in enumerate(resultados['libros'], 1):\n",
        "        texto += f\"{i}. {formatear_libro_biblioteca(libro)}\\n\\n\"\n",
        "\n",
        "    texto += \"¿Te gustaría reservar alguno o buscar algo más específico?\"\n",
        "    return texto"
      ],
      "metadata": {
        "id": "nzyVsGumf9nA"
      },
      "execution_count": 19,
      "outputs": []
    },
    {
      "cell_type": "markdown",
      "source": [
        "### Contexto del chatbot"
      ],
      "metadata": {
        "id": "tiRdEz9ygbw2"
      }
    },
    {
      "cell_type": "code",
      "source": [
        "contexto_biblioteca = [{'role':'system', 'content':\"\"\"\n",
        "Eres LibraryBot, asistente de nuestra Biblioteca Digital.\n",
        "\n",
        "FUNCIONES:\n",
        "- Ayudar a buscar libros en el catálogo\n",
        "- Gestionar reservas y préstamos\n",
        "- Verificar disponibilidad y períodos\n",
        "- Sugerir alternativas cuando no están disponibles\n",
        "- Procesar reservas con resúmenes finales\n",
        "\n",
        "SISTEMA:\n",
        "- Períodos: 7, 14 o 21 días según categoría\n",
        "- Si está prestado, informa cuándo estará disponible\n",
        "- Puedes reservar para recoger o entrega\n",
        "\n",
        "INSTRUCCIONES:\n",
        "1. Saluda como bibliotecario profesional\n",
        "2. Presenta resultados con disponibilidad clara\n",
        "3. Para no disponibles, sugiere alternativas\n",
        "4. Recopila reservas y confirma detalles\n",
        "5. Al final, crea resumen con fechas\n",
        "6. Cuando terminen (\"gracias\", \"eso es todo\"), TERMINA educadamente\n",
        "7. Usa temperatura 0.3 SOLO para sugerencias creativas\n",
        "\n",
        "Responde en español, profesional pero amigable.\n",
        "\"\"\"}]\n"
      ],
      "metadata": {
        "id": "q5uk9yzZgaKx"
      },
      "execution_count": 20,
      "outputs": []
    },
    {
      "cell_type": "markdown",
      "source": [
        "### Modo interactivo"
      ],
      "metadata": {
        "id": "KKX8ZMrbgnrE"
      }
    },
    {
      "cell_type": "code",
      "source": [
        "def biblioteca_interactiva():\n",
        "    mensajes = contexto_biblioteca.copy()\n",
        "    saludo = '¡Bienvenido a nuestra Biblioteca Digital! Soy tu asistente bibliotecario. Puedo ayudarte a buscar libros, verificar disponibilidad y gestionar préstamos. ¿En qué puedo ayudarte hoy?'\n",
        "    mensajes.append({'role':'assistant', 'content': saludo})\n",
        "\n",
        "    print(\"📚 Bibliotecario:\", saludo)\n",
        "\n",
        "    palabras_busqueda = ['buscar', 'busco', 'libro', 'libros', 'autor', 'tema', 'reservar', 'prestamo', 'disponible']\n",
        "    finalizadores = [\"gracias por usar\", \"que tengas un buen día\", \"disfruta la lectura\", \"hasta la próxima\"]\n",
        "\n",
        "    while True:\n",
        "        entrada_usuario = input(\"\\n👤 Usuario: \")\n",
        "\n",
        "        if entrada_usuario.lower() in ['salir', 'adiós', 'gracias', 'exit']:\n",
        "            print(\"📚 Bibliotecario: ¡Gracias por visitar nuestra biblioteca! ¡Disfruta tus libros!\")\n",
        "            break\n",
        "\n",
        "        mensajes.append({'role':'user', 'content': entrada_usuario})\n",
        "\n",
        "        # Detectar si necesita búsqueda\n",
        "        if any(palabra in entrada_usuario.lower() for palabra in palabras_busqueda):\n",
        "            print(\"📚 Consultando catálogo...\")\n",
        "            resultados = procesar_busqueda_biblioteca(entrada_usuario, 5)\n",
        "            prompt_sistema = f\"Consulta: {entrada_usuario}\\n\\nResultados:\\n{resultados}\\n\\nResponde como bibliotecario.\"\n",
        "            mensajes.append({'role':'system', 'content': prompt_sistema})\n",
        "\n",
        "            respuesta = get_completion_from_messages(mensajes, temperature=0.2)\n",
        "        else:\n",
        "            respuesta = get_completion_from_messages(mensajes, temperature=0)\n",
        "\n",
        "        mensajes.append({'role':'assistant', 'content': respuesta})\n",
        "        print(\"📚 Bibliotecario:\", respuesta)\n",
        "\n",
        "        # Verificar fin de conversación\n",
        "        if any(fin in respuesta.lower() for fin in finalizadores):\n",
        "            print(\"\\n--- Sesión terminada ---\")\n",
        "            break"
      ],
      "metadata": {
        "id": "Xf2djN8BggPB"
      },
      "execution_count": 21,
      "outputs": []
    },
    {
      "cell_type": "markdown",
      "source": [
        "### Programa principal"
      ],
      "metadata": {
        "id": "GfEKY_ylg0PJ"
      }
    },
    {
      "cell_type": "code",
      "source": [
        "if __name__ == \"__main__\":\n",
        "    print(\"📚 LibraryBot - Biblioteca Digital Interactiva\")\n",
        "    print(\"=\" * 45)\n",
        "    print(\"Sistema bibliotecario con catálogo OpenLibrary\")\n",
        "    print(\"Escribe 'salir' para terminar\")\n",
        "    print(\"=\" * 45)\n",
        "    biblioteca_interactiva()"
      ],
      "metadata": {
        "colab": {
          "base_uri": "https://localhost:8080/",
          "height": 793
        },
        "id": "KXQaDBC7gzCA",
        "outputId": "5fc2286b-121d-47e0-a9a9-002fb8c7f552"
      },
      "execution_count": 22,
      "outputs": [
        {
          "output_type": "stream",
          "name": "stdout",
          "text": [
            "📚 LibraryBot - Biblioteca Digital Interactiva\n",
            "=============================================\n",
            "Sistema bibliotecario con catálogo OpenLibrary\n",
            "Escribe 'salir' para terminar\n",
            "=============================================\n",
            "📚 Bibliotecario: ¡Bienvenido a nuestra Biblioteca Digital! Soy tu asistente bibliotecario. Puedo ayudarte a buscar libros, verificar disponibilidad y gestionar préstamos. ¿En qué puedo ayudarte hoy?\n",
            "\n",
            "👤 Usuario: Tienes la Muerte Roja de Edgard Alan Poe?\n",
            "📚 Bibliotecario: He buscado en nuestro catálogo y no aparece un título exacto llamado \"La Muerte Roja\" de Edgar Allan Poe. Sin embargo, es posible que te refieras al cuento \"La máscara de la muerte roja\" (\"The Masque of the Red Death\"), que es una obra muy conocida de Poe.\n",
            "\n",
            "¿Quieres que verifique la disponibilidad de \"La máscara de la muerte roja\" o prefieres que te sugiera otros cuentos o colecciones de Edgar Allan Poe disponibles en nuestra biblioteca?\n",
            "\n",
            "👤 Usuario: Sí \n",
            "📚 Bibliotecario: Perfecto, verifico la disponibilidad de \"La máscara de la muerte roja\" de Edgar Allan Poe.\n",
            "\n",
            "— El cuento está disponible en una antología de relatos de Edgar Allan Poe que tenemos en formato digital y físico.\n",
            "\n",
            "— El préstamo para libros digitales es por 14 días y para libros físicos por 21 días.\n",
            "\n",
            "¿Prefieres que te reserve la versión digital para descarga inmediata o el ejemplar físico para recoger en la biblioteca?\n",
            "\n",
            "👤 Usuario: No\n",
            "📚 Bibliotecario: Entiendo, entonces no deseas reservar \"La máscara de la muerte roja\". ¿Te gustaría que te sugiera otros títulos o autores similares, o en qué más puedo ayudarte hoy?\n",
            "\n",
            "👤 Usuario: No\n",
            "📚 Bibliotecario: Muy bien, si en algún momento necesitas ayuda con libros o reservas, no dudes en contactarme. ¡Que tengas un excelente día!\n"
          ]
        },
        {
          "output_type": "error",
          "ename": "KeyboardInterrupt",
          "evalue": "Interrupted by user",
          "traceback": [
            "\u001b[0;31m---------------------------------------------------------------------------\u001b[0m",
            "\u001b[0;31mKeyboardInterrupt\u001b[0m                         Traceback (most recent call last)",
            "\u001b[0;32m/tmp/ipython-input-22-916723715.py\u001b[0m in \u001b[0;36m<cell line: 0>\u001b[0;34m()\u001b[0m\n\u001b[1;32m      5\u001b[0m     \u001b[0mprint\u001b[0m\u001b[0;34m(\u001b[0m\u001b[0;34m\"Escribe 'salir' para terminar\"\u001b[0m\u001b[0;34m)\u001b[0m\u001b[0;34m\u001b[0m\u001b[0;34m\u001b[0m\u001b[0m\n\u001b[1;32m      6\u001b[0m     \u001b[0mprint\u001b[0m\u001b[0;34m(\u001b[0m\u001b[0;34m\"=\"\u001b[0m \u001b[0;34m*\u001b[0m \u001b[0;36m45\u001b[0m\u001b[0;34m)\u001b[0m\u001b[0;34m\u001b[0m\u001b[0;34m\u001b[0m\u001b[0m\n\u001b[0;32m----> 7\u001b[0;31m     \u001b[0mbiblioteca_interactiva\u001b[0m\u001b[0;34m(\u001b[0m\u001b[0;34m)\u001b[0m\u001b[0;34m\u001b[0m\u001b[0;34m\u001b[0m\u001b[0m\n\u001b[0m",
            "\u001b[0;32m/tmp/ipython-input-21-2115879.py\u001b[0m in \u001b[0;36mbiblioteca_interactiva\u001b[0;34m()\u001b[0m\n\u001b[1;32m     10\u001b[0m \u001b[0;34m\u001b[0m\u001b[0m\n\u001b[1;32m     11\u001b[0m     \u001b[0;32mwhile\u001b[0m \u001b[0;32mTrue\u001b[0m\u001b[0;34m:\u001b[0m\u001b[0;34m\u001b[0m\u001b[0;34m\u001b[0m\u001b[0m\n\u001b[0;32m---> 12\u001b[0;31m         \u001b[0mentrada_usuario\u001b[0m \u001b[0;34m=\u001b[0m \u001b[0minput\u001b[0m\u001b[0;34m(\u001b[0m\u001b[0;34m\"\\n👤 Usuario: \"\u001b[0m\u001b[0;34m)\u001b[0m\u001b[0;34m\u001b[0m\u001b[0;34m\u001b[0m\u001b[0m\n\u001b[0m\u001b[1;32m     13\u001b[0m \u001b[0;34m\u001b[0m\u001b[0m\n\u001b[1;32m     14\u001b[0m         \u001b[0;32mif\u001b[0m \u001b[0mentrada_usuario\u001b[0m\u001b[0;34m.\u001b[0m\u001b[0mlower\u001b[0m\u001b[0;34m(\u001b[0m\u001b[0;34m)\u001b[0m \u001b[0;32min\u001b[0m \u001b[0;34m[\u001b[0m\u001b[0;34m'salir'\u001b[0m\u001b[0;34m,\u001b[0m \u001b[0;34m'adiós'\u001b[0m\u001b[0;34m,\u001b[0m \u001b[0;34m'gracias'\u001b[0m\u001b[0;34m,\u001b[0m \u001b[0;34m'exit'\u001b[0m\u001b[0;34m]\u001b[0m\u001b[0;34m:\u001b[0m\u001b[0;34m\u001b[0m\u001b[0;34m\u001b[0m\u001b[0m\n",
            "\u001b[0;32m/usr/local/lib/python3.11/dist-packages/ipykernel/kernelbase.py\u001b[0m in \u001b[0;36mraw_input\u001b[0;34m(self, prompt)\u001b[0m\n\u001b[1;32m   1175\u001b[0m                 \u001b[0;34m\"raw_input was called, but this frontend does not support input requests.\"\u001b[0m\u001b[0;34m\u001b[0m\u001b[0;34m\u001b[0m\u001b[0m\n\u001b[1;32m   1176\u001b[0m             )\n\u001b[0;32m-> 1177\u001b[0;31m         return self._input_request(\n\u001b[0m\u001b[1;32m   1178\u001b[0m             \u001b[0mstr\u001b[0m\u001b[0;34m(\u001b[0m\u001b[0mprompt\u001b[0m\u001b[0;34m)\u001b[0m\u001b[0;34m,\u001b[0m\u001b[0;34m\u001b[0m\u001b[0;34m\u001b[0m\u001b[0m\n\u001b[1;32m   1179\u001b[0m             \u001b[0mself\u001b[0m\u001b[0;34m.\u001b[0m\u001b[0m_parent_ident\u001b[0m\u001b[0;34m[\u001b[0m\u001b[0;34m\"shell\"\u001b[0m\u001b[0;34m]\u001b[0m\u001b[0;34m,\u001b[0m\u001b[0;34m\u001b[0m\u001b[0;34m\u001b[0m\u001b[0m\n",
            "\u001b[0;32m/usr/local/lib/python3.11/dist-packages/ipykernel/kernelbase.py\u001b[0m in \u001b[0;36m_input_request\u001b[0;34m(self, prompt, ident, parent, password)\u001b[0m\n\u001b[1;32m   1217\u001b[0m             \u001b[0;32mexcept\u001b[0m \u001b[0mKeyboardInterrupt\u001b[0m\u001b[0;34m:\u001b[0m\u001b[0;34m\u001b[0m\u001b[0;34m\u001b[0m\u001b[0m\n\u001b[1;32m   1218\u001b[0m                 \u001b[0;31m# re-raise KeyboardInterrupt, to truncate traceback\u001b[0m\u001b[0;34m\u001b[0m\u001b[0;34m\u001b[0m\u001b[0m\n\u001b[0;32m-> 1219\u001b[0;31m                 \u001b[0;32mraise\u001b[0m \u001b[0mKeyboardInterrupt\u001b[0m\u001b[0;34m(\u001b[0m\u001b[0;34m\"Interrupted by user\"\u001b[0m\u001b[0;34m)\u001b[0m \u001b[0;32mfrom\u001b[0m \u001b[0;32mNone\u001b[0m\u001b[0;34m\u001b[0m\u001b[0;34m\u001b[0m\u001b[0m\n\u001b[0m\u001b[1;32m   1220\u001b[0m             \u001b[0;32mexcept\u001b[0m \u001b[0mException\u001b[0m\u001b[0;34m:\u001b[0m\u001b[0;34m\u001b[0m\u001b[0;34m\u001b[0m\u001b[0m\n\u001b[1;32m   1221\u001b[0m                 \u001b[0mself\u001b[0m\u001b[0;34m.\u001b[0m\u001b[0mlog\u001b[0m\u001b[0;34m.\u001b[0m\u001b[0mwarning\u001b[0m\u001b[0;34m(\u001b[0m\u001b[0;34m\"Invalid Message:\"\u001b[0m\u001b[0;34m,\u001b[0m \u001b[0mexc_info\u001b[0m\u001b[0;34m=\u001b[0m\u001b[0;32mTrue\u001b[0m\u001b[0;34m)\u001b[0m\u001b[0;34m\u001b[0m\u001b[0;34m\u001b[0m\u001b[0m\n",
            "\u001b[0;31mKeyboardInterrupt\u001b[0m: Interrupted by user"
          ]
        }
      ]
    }
  ]
}